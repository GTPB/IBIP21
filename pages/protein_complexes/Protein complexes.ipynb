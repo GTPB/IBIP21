{
 "cells": [
  {
   "cell_type": "markdown",
   "metadata": {},
   "source": [
    "# Quantitative behavior of protein complexes \n",
    "\n",
    "In this chapter, we will look deeper into the same cancer data set and specifically look into the behavior of proteins known to form complexes. There is increasing consensus that most of these proteins are tightly regulated by selective degradation (see e.g. https://www.ncbi.nlm.nih.gov/pmc/articles/PMC5660600/). This leads to  \n",
    "a) very similar quantitative changes in the expression profiles of the proteins and   \n",
    "b) many of the observed differences between the transcriptome and proteome\n",
    "\n",
    "The following analysis will give more insight into the quantitative behavior of protein complexes.\n",
    "\n",
    "Find some accompanying slides on http://computproteomics.bmb.sdu.dk/BMB842/#21\n"
   ]
  },
  {
   "cell_type": "markdown",
   "metadata": {},
   "source": [
    "### Reading the data\n",
    "\n",
    "We will take the same data from the paper: https://www.ncbi.nlm.nih.gov/pubmed/30962452\n",
    "\n",
    "Let's manually check some of the complexes also analyzed in the paper.\n",
    "\n",
    "We will do that in a simplistic way with some lines of R code which, on the other hand, also provide us additional information. \n",
    "\n",
    "Fig. 3 in the paper shows patterns of the subunits of the following complexes:\n",
    "\n",
    "_First example:_ The MCM complex  \n",
    "👨‍💻Carry out hierarchical clustering (`heatmap`) for proteins that contain \"MCM\" in their name.\n",
    "\n",
    "_Second example:_ Condensin I complex  \n",
    "👨‍💻 Carry out hierarchical clustering (`heatmap`) for proteins that contain \"SCM\" or \"NCA\" in their name.\n",
    "\n",
    "<span style=\"background-color:#ffdddd;border-left:6px;\">You will get more than the proteins known to be subunits of the complex. Check whether the complex subunits show similar changes of their quantitative behavior.</span>"
   ]
  },
  {
   "cell_type": "code",
   "execution_count": null,
   "metadata": {},
   "outputs": [],
   "source": [
    "lQuantTable <-read.csv(\"resources/data/PMC6453966_VSClust_in.csv\",row.names=1)\n",
    "\n",
    "# take all proteins containing \"MCM\" in their name\n",
    "MCMComplex <- as.matrix(lQuantTable[grep(\"MCM\",rownames(lQuantTable)),])\n",
    "# Make a hierarchical clustering with the heatmap command here\n",
    "\n",
    "CondensinComplex <- as.matrix(lQuantTable[grep(\"NCA|SMC\",rownames(lQuantTable)),])\n",
    "# Make a hierarchical clustering with the heatmap command here\n",
    "heatmap(...)\n"
   ]
  },
  {
   "cell_type": "markdown",
   "metadata": {},
   "source": [
    "#### Add your answers here\n",
    "(double-click here to edit the cell)\n",
    "\n",
    "##### ❔ Question I:  <ins>How similar is the behavior of the complex subunits? Does their behavior still separate the different cancer subtypes? What happens with the sample \"Basal 17\"? </ins>\n",
    "\n",
    "_Answer_\n",
    "\n",
    "##### ❔ Question II:  <ins>When looking at the plot of Condensin I (and others), do you identify the proteins of another complex? Which one is it?</ins>\n",
    "\n",
    "_Answer_\n",
    "\n",
    "\n"
   ]
  },
  {
   "cell_type": "markdown",
   "metadata": {},
   "source": [
    "### Gene IDs and proteins\n",
    "\n",
    "In order to continue working on this data set, we need to translate the gene names into protein accession numbers from UniProt as this is the common way to annotate proteins. \n",
    "\n",
    "For that, we need to install the packages `clusterProfiler` and `org.Hs.eg.db`.\n",
    "\n",
    "The procedure has some losses as not all gene names have unique protein accession numbers."
   ]
  },
  {
   "cell_type": "code",
   "execution_count": null,
   "metadata": {},
   "outputs": [],
   "source": [
    "# needed only once:\n",
    "#install.packages(\"BiocManager\");library(BiocManager);install(c(\"clusterProfiler\",\"org.Hs.eg.db\"))\n",
    "\n",
    "library(clusterProfiler)\n",
    "library(org.Hs.eg.db)\n",
    "# translating IDs\n",
    "UniProtAccs <- bitr(rownames(lQuantTable), fromType=\"SYMBOL\", toType=\"UNIPROT\",OrgDb = org.Hs.eg.db)\n",
    "\n",
    "# Remove all redundant entries\n",
    "UniProtAccs <- UniProtAccs[!duplicated(UniProtAccs$SYMBOL) ,]\n",
    "UniProtAccs <- UniProtAccs[!duplicated(UniProtAccs$UNIPROT) ,]\n",
    "head(UniProtAccs)\n",
    "dim(UniProtAccs)\n",
    "\n",
    "# Create new table with uniprot accession names instead of gene names\n",
    "uQuantTable <- lQuantTable[UniProtAccs$SYMBOL,]\n",
    "dim(uQuantTable)\n",
    "rownames(UniProtAccs) <- UniProtAccs$SYMBOL\n",
    "rownames(uQuantTable) <- UniProtAccs[rownames(uQuantTable),\"UNIPROT\"]\n",
    "\n",
    "# Do not forget to change the folder name!\n",
    "write.csv(uQuantTable,\"resources/data/PMC6453966_ComplexBrowser_in.csv\")\n",
    "\n"
   ]
  },
  {
   "cell_type": "markdown",
   "metadata": {},
   "source": [
    "#### Add your answers here\n",
    "(double-click here to edit the cell)\n",
    "\n",
    "##### ❔ Question I:  <ins>How many genes have been lost in the translation? Can this be avoided?</ins>\n",
    "\n",
    "_Answer_\n",
    "\n",
    "##### ❔ Question II:  <ins>What is the difference between reviewed and unreviewed proteins in UniProt? What are the implications when searching mass spectra only for reviewed proteins?</ins>\n",
    "\n",
    "_Answer_\n",
    "\n",
    "##### ❔ Question III:  <ins>What is more important: Bacalhao or UniProt?</ins>\n",
    "\n",
    "_Answer_\n",
    "\n"
   ]
  },
  {
   "cell_type": "markdown",
   "metadata": {},
   "source": [
    "### Using ComplexBrowser and CoExpresso\n",
    "\n",
    "These shiny apps allow interactively investigating protein complexes, or, if desired, the co-regulatory behavior of any protein group. \n",
    "\n",
    "_ComplexBrowser_ takes a csv-file and runs some basic quality control on the quantitative data. The second stage of the analysis includes summarization of protein changes to describe the quantitative behavior of entire protein complexes. For that, we use the factor analysis for weighted averaging, see also https://www.ncbi.nlm.nih.gov/pmc/articles/PMC5417831/ and https://www.ncbi.nlm.nih.gov/pubmed/16473874\n",
    "\n",
    "👨‍💻 Take a look at the tutorial in https://bitbucket.org/michalakw/complexbrowser before launching the program.\n",
    "\n",
    "You can run ComplexBrowser the same way as VSClust:\n",
    "\n",
    "a) Download the docker image `docker pull veitveit/complexbrowser` and run  it using `docker run -p3838:3838 veitveit/complexbrowser`. You can access the app via localhost:3838 in your browser afterwards\n",
    "\n",
    "or \n",
    "\n",
    "b) Run it on the server (here we have a max. of 1 person a time): http://computproteomics.bmb.sdu.dk/Apps/ComplexBrowser\n",
    "\n",
    "_CoExpresso_ is a more light-weight program that is based on the data in ProteomicsDB (proteomicsdb.org), and with that data from 150 different human cell types and tissues. It calculates evidence for statistically significant co-regulation of a set protein within all cell types where these proteins are co-expressed. With this, we can compare the general behavior of a protein group (i.e. a protein complex in our case) to the one observed within our cancer subtypes.\n",
    "\n",
    "👨‍💻 Your task now is to load the saved file into ComplexBrowser and carry out some basic supervised analysis with respect to protein complexes defined in [CORUM](https://mips.helmholtz-muenchen.de/corum/) or [Complex Portal](https://www.ebi.ac.uk/complexportal/).\n",
    "\n",
    "When choosing a protein complex in ComplexBrowser, you can submit this protein group to CoExpresso to see the group's behavior in human cells.\n",
    "\n",
    "\n"
   ]
  },
  {
   "cell_type": "markdown",
   "metadata": {},
   "source": [
    "#### Add your answers here\n",
    "(double-click here to edit the cell)\n",
    "\n",
    "##### ❔ Question I:  <ins>Which are the most changing complexes when comparing the first 2 cancer subtypes?</ins>\n",
    "\n",
    "_Answer_\n",
    "\n",
    "##### ❔ Question II:  <ins>Take some of these complexes and assess their behavior in the cancer subtypes to the one in human cell types (use CoExpresso). Do you see any differences that might be specific to breast cancer subtypes?</ins>\n",
    "\n",
    "_Answer_\n",
    "\n",
    "##### ❔ Question III:  <ins>How is the complex fold-change calculated?</ins>\n",
    "\n",
    "_Answer_\n",
    "\n",
    "##### ❔ Question VI:  <ins>Look into the CoExpresso paper. Which are the different randomizations to generate empirical distributions? What does distinguish them?</ins>\n",
    "\n",
    "_Answer_\n",
    "\n"
   ]
  },
  {
   "cell_type": "code",
   "execution_count": null,
   "metadata": {},
   "outputs": [],
   "source": []
  }
 ],
 "metadata": {
  "kernelspec": {
   "display_name": "R",
   "language": "R",
   "name": "ir"
  },
  "language_info": {
   "codemirror_mode": "r",
   "file_extension": ".r",
   "mimetype": "text/x-r-source",
   "name": "R",
   "pygments_lexer": "r",
   "version": "4.1.2"
  }
 },
 "nbformat": 4,
 "nbformat_minor": 4
}
