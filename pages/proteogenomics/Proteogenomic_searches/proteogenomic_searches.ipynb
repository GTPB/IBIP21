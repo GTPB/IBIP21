{
 "cells": [
  {
   "cell_type": "markdown",
   "metadata": {},
   "source": [
    "## Proteogenomics Searches\n",
    "\n",
    "In order to find non-canonical products of the genome, we need to extend the dictionary of protein sequences, the _sequence database_ to be searched using the possible new sequences\n",
    "\n",
    "##### _❔ Do we need to keep the canonical protein sequences?_\n",
    "\n",
    "##### _❔ What can happen if we include too many sequences? Too few?_"
   ]
  },
  {
   "cell_type": "markdown",
   "metadata": {},
   "source": [
    "## A proteogenomic database\n",
    "\n",
    "In the _resources_ folder, you will find a [proteogenomic sequence database](https://github.com/GTPB/IBIP21/blob/master/pages/proteogenomics/Proteogenomic_searches/resources/ensembl_final_proteinDB.fasta.gz) kindly provided by Jakub Vašíček. It consists of the human Ensembl peptide database complemented with peptides possibly containing the product of sequence variants identified by [_Wang et al._](https://www.embopress.org/doi/full/10.15252/msb.20188503) by exome and transcriptome sequencing.\n",
    "\n",
    "##### _❔  If you would have to choose, would you prefer exome or transcriptome sequencing?_\n",
    "\n",
    "##### 👨‍💻  Uncompress the file and inspect its content.\n",
    "\n",
    "##### _❔ How does this database compare to the UniProt database that you used in the previous workshop in terms of number and type of protein sequences?_\n",
    "\n",
    "##### 👨‍💻  Look for the sequence of the insulin protein.\n",
    "\n",
    "##### _❔ How do you interpret the content of the header?_\n",
    "\n",
    "##### _❔ How many different sequences do you find? What is the difference between them?_\n",
    "\n",
    "##### _❔ How does the UniProt sequence compare to the Ensembl sequence?_\n",
    "\n",
    "In the clinics, we are particularly interested in a byproduct of insulin production, the [C-peptide](https://en.wikipedia.org/wiki/C-peptide). \n",
    "\n",
    "##### 👨‍💻  Find the sequence of the C-peptide.\n",
    "\n",
    "##### _❔ Can you find this peptide using proteomics?_\n",
    "\n",
    "##### 👨‍💻  Look for the natural variants of insulin according to UniProt.\n",
    "\n",
    "##### _❔ Can we find such variants using proteomics?_\n",
    "\n",
    "##### 👨‍💻  Look for the natural variants of insulin according to UniProt.\n",
    "\n",
    "##### _❔ Can we find such variant proteins using proteomics?_\n",
    "\n",
    "##### _❔ What types of genomics variants do you know? What consequences do they have on proteins?_\n",
    "\n",
    "##### 👨‍💻  Look for the variant called '1.153003465.C.G' in your database.\n",
    "\n",
    "##### _❔ How do you interpret the header of the corresponding sequence? How many sequences can be changed depending on the allelic status of this variant?_\n",
    "\n",
    "The variant with identifier 'rs1055935' corresonds to variation at this location of the genome. \n",
    "\n",
    "##### 👨‍💻  Find this variant in Ensembl.\n",
    "\n",
    "##### _❔ What alleles can be found at this location of the genome? How often are the different alleles encountered? What influences the likelihood to find a specific allele? What consequences of having the different alleles can you expect in terms of protein sequence and disease?_\n",
    "\n",
    "##### 👨‍💻  Find the sequence from the transcript 'ENST00000679982' affected by this variant in your database.\n",
    "\n",
    "##### _❔ What is the difference in the sequence compared to the canonical 'ENST00000679982' sequence?_\n"
   ]
  },
  {
   "cell_type": "markdown",
   "metadata": {},
   "source": [
    "## Proteogenomic Search\n",
    "\n",
    "We used this database to reprocess a file from [_Wang et al._](https://www.embopress.org/doi/full/10.15252/msb.20188503) using SearchGUI and PeptideShaker as you did in the previous workshop, the results are in the _resources_ folder. \n",
    "\n",
    "##### 👨‍💻  Downlaod and unzip the file available at this [link](https://drive.google.com/file/d/1S5plnpm8berIgA5UYUXPKJN4EzRRu3pa/view?usp=sharing) and open it using [PeptideShaker](https://github.com/compomics/peptide-shaker).\n",
    "\n",
    "##### ❔ _How do the protein results compare to previous searches that you might have conducted?_\n",
    "\n",
    "##### 👨‍💻  Look for the protein named 'var_1.153003465.C.G_ENST00000295367 stop:169'. (line 90)\n",
    "\n",
    "##### ❔ _Can you find information supporting that this sample carried the alternative allele (G) for this variant?_\n",
    "\n",
    "##### 👨‍💻  Click on the yellow box in the 'PI' cloumn. \n",
    "\n",
    "##### ❔ _How do you interpret this information?_\n",
    "\n",
    "##### 💬 _How would you map peptides to proteins in proteogenomic searches?_\n",
    "\n",
    "##### 👨‍💻  Look for the protein named 'ENSP00000295367.4'. (line 7261)\n",
    "\n",
    "##### ❔ _Can you find information supporting that this sample carried the reference allele (C) for this variant?_\n",
    "\n",
    "##### ❔ _Can you confidently infer the genotype of the sample based on these proteomics data?_"
   ]
  },
  {
   "cell_type": "markdown",
   "metadata": {},
   "source": [
    "## Application to Cancer research\n",
    "\n",
    "### Data set\n",
    "\n",
    "We will now analyze the non-canonical genomic products identified in breast cancer by [Johansson _et al._](https://www.nature.com/articles/s41467-019-09018-y). The proteogenomic identification results by Johansson _et al._ are reported in Supplementary Data 6, available in the [resources folder](https://github.com/GTPB/IBIP21/blob/master/pages/proteogenomics/Proteogenomic_searches/resources/novel_peptides.gz)."
   ]
  },
  {
   "cell_type": "markdown",
   "metadata": {},
   "source": [
    "### Libraries\n",
    "\n",
    "We will need the following libraries, please make sure that they are installed."
   ]
  },
  {
   "cell_type": "code",
   "execution_count": 1,
   "metadata": {},
   "outputs": [
    {
     "name": "stderr",
     "output_type": "stream",
     "text": [
      "Warning message:\n",
      "\"package 'tidyr' was built under R version 3.6.3\"\n",
      "Warning message:\n",
      "\"replacing previous import 'vctrs::data_frame' by 'tibble::data_frame' when loading 'dplyr'\"\n",
      "Warning message:\n",
      "\"package 'dplyr' was built under R version 3.6.3\"\n",
      "\n",
      "Attaching package: 'dplyr'\n",
      "\n",
      "\n",
      "The following objects are masked from 'package:stats':\n",
      "\n",
      "    filter, lag\n",
      "\n",
      "\n",
      "The following objects are masked from 'package:base':\n",
      "\n",
      "    intersect, setdiff, setequal, union\n",
      "\n",
      "\n"
     ]
    }
   ],
   "source": [
    "library(tidyr)\n",
    "library(dplyr)"
   ]
  },
  {
   "cell_type": "markdown",
   "metadata": {},
   "source": [
    "##### 👨‍💻 Load the data in R as in the code below."
   ]
  },
  {
   "cell_type": "code",
   "execution_count": 2,
   "metadata": {},
   "outputs": [],
   "source": [
    "novelPeptidesDF <- read.table(\n",
    "    file = \"resources/novel_peptides.gz\",\n",
    "    header = T,\n",
    "    sep = \"\\t\",\n",
    "    comment.char = \"\",\n",
    "    quote = \"\",\n",
    "    stringsAsFactors = F\n",
    ")"
   ]
  },
  {
   "cell_type": "markdown",
   "metadata": {},
   "source": [
    "### Genomic context and function\n",
    "\n",
    "##### 👨‍💻 Find the different classes of peptides represented."
   ]
  },
  {
   "cell_type": "code",
   "execution_count": 3,
   "metadata": {},
   "outputs": [
    {
     "name": "stdout",
     "output_type": "stream",
     "text": [
      "                     class n_peptides\n",
      "1               intergenic        172\n",
      "2                 intronic         91\n",
      "3           ncRNA_intronic         22\n",
      "4             ncRNA_exonic         18\n",
      "5                   exonic         17\n",
      "6                     UTR5         16\n",
      "7              UTR5-exonic         14\n",
      "8              exonic-UTR5         12\n",
      "9          intronic-exonic         10\n",
      "10         exonic-intronic          4\n",
      "11                upstream          3\n",
      "12     exonic-ncRNA_exonic          2\n",
      "13         exonic-splicing          1\n",
      "14         exonic-upstream          1\n",
      "15 intergenic-ncRNA_exonic          1\n",
      "16     ncRNA_exonic-exonic          1\n",
      "17       splicing-intronic          1\n",
      "18                    UTR3          1\n",
      "19           UTR5-upstream          1\n"
     ]
    }
   ],
   "source": [
    "classesDF <- as.data.frame(\n",
    "    table(\n",
    "        novelPeptidesDF$class\n",
    "    )\n",
    ") %>%\n",
    "    rename(\n",
    "        class = Var1,\n",
    "        n_peptides = Freq\n",
    "    ) %>%\n",
    "    arrange(\n",
    "        desc(n_peptides)\n",
    "    )\n",
    "\n",
    "print(classesDF)"
   ]
  },
  {
   "cell_type": "markdown",
   "metadata": {},
   "source": [
    "##### ❔ _What do these categories represent? Would you expect the same distribution in all samples?_\n",
    "\n",
    "##### 💬 Can you speculate on the function or effect of these novel peptides in cancer biology? How can these be used in a clinical setup?"
   ]
  }
 ],
 "metadata": {
  "kernelspec": {
   "display_name": "R",
   "language": "R",
   "name": "ir"
  },
  "language_info": {
   "codemirror_mode": "r",
   "file_extension": ".r",
   "mimetype": "text/x-r-source",
   "name": "R",
   "pygments_lexer": "r",
   "version": "3.6.1"
  }
 },
 "nbformat": 4,
 "nbformat_minor": 2
}
