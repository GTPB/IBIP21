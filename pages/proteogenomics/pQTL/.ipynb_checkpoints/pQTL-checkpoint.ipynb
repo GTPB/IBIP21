{
 "cells": [
  {
   "cell_type": "markdown",
   "metadata": {},
   "source": [
    "## pQTL\n",
    "\n",
    "When trying to understand the mechanisms underlying the association of genetic variants with phenotypes, it can be useful to see whether the variants are also associated with the abundance of a transcript or of a protein. Loci associated with transcript and protein abundances are called expression quantative trait loci (eQTL) and protein quantative trait loci (pQTL), respectively.\n",
    "\n",
    "##### _❔ How can a non-coding variant influence the abundance of a protein?_"
   ]
  },
  {
   "cell_type": "markdown",
   "metadata": {},
   "source": [
    "## Genome-proteome association\n",
    "\n",
    "To find pQTLs, one runs the association of protein levels against the number of alleles of genetic variants.\n",
    "\n",
    "##### _❔  How many comparisons will this represent? What challenges does this pose to the analysis?_\n",
    "\n",
    "##### 👨‍💻  Download the file available at this [link](https://drive.google.com/file/d/157GqxsL8DpkjAvMHkLtKgMF44Fdt-6Ig/view?usp=sharing)."
   ]
  },
  {
   "cell_type": "markdown",
   "metadata": {},
   "source": [
    "### Libraries\n",
    "\n",
    "We will need the following libraries, please make sure that they are installed."
   ]
  },
  {
   "cell_type": "code",
   "execution_count": 1,
   "metadata": {},
   "outputs": [
    {
     "name": "stderr",
     "output_type": "stream",
     "text": [
      "Warning message:\n",
      "\"package 'conflicted' was built under R version 3.6.3\"\n",
      "Warning message:\n",
      "\"package 'janitor' was built under R version 3.6.3\"\n",
      "Warning message:\n",
      "\"replacing previous import 'vctrs::data_frame' by 'tibble::data_frame' when loading 'dplyr'\"\n",
      "Warning message:\n",
      "\"package 'tidyr' was built under R version 3.6.3\"\n",
      "Warning message:\n",
      "\"package 'dplyr' was built under R version 3.6.3\"\n",
      "Warning message:\n",
      "\"package 'glue' was built under R version 3.6.3\"\n",
      "[conflicted] Will prefer \u001b[34mdplyr::filter\u001b[39m over any other package\n",
      "\n"
     ]
    }
   ],
   "source": [
    "library(conflicted) # A very convenient package to avoid and resolve namespace conflicts\n",
    "library(janitor) # A package to clean tables\n",
    "library(tidyr) # A reference package to manipulate data\n",
    "library(dplyr) # A reference package to manipulate data\n",
    "library(ggplot2) # A reference package to plot data\n",
    "library(glue) # A package to put variables in strings.\n",
    "\n",
    "conflict_prefer(\"filter\", \"dplyr\") # Conflict resolution for the 'filter' function \n",
    "\n",
    "theme_set(theme_bw(base_size = 13)) # Theme to use for all plots"
   ]
  },
  {
   "cell_type": "markdown",
   "metadata": {},
   "source": [
    "### Association between genotype and protein level\n",
    "\n",
    "##### 👨‍💻 Set the path to the file you downloaded and load the data in R as in the code below."
   ]
  },
  {
   "cell_type": "code",
   "execution_count": 2,
   "metadata": {},
   "outputs": [],
   "source": [
    "myFile <- \"resources/pqtl.gz\"\n",
    "\n",
    "qtlDF <- read.table(\n",
    "    file = myFile,\n",
    "    header = T,\n",
    "    stringsAsFactors = F,\n",
    "    sep = \"\\t\"\n",
    ")"
   ]
  },
  {
   "cell_type": "code",
   "execution_count": 3,
   "metadata": {},
   "outputs": [
    {
     "data": {
      "text/html": [
       "<table>\n",
       "<caption>A data.frame: 6 × 9</caption>\n",
       "<thead>\n",
       "\t<tr><th></th><th scope=col>chromosome</th><th scope=col>position</th><th scope=col>genotype</th><th scope=col>phenotype</th><th scope=col>sample</th><th scope=col>protein_A</th><th scope=col>protein_B</th><th scope=col>protein_C</th><th scope=col>protein_D</th></tr>\n",
       "\t<tr><th></th><th scope=col>&lt;int&gt;</th><th scope=col>&lt;int&gt;</th><th scope=col>&lt;int&gt;</th><th scope=col>&lt;dbl&gt;</th><th scope=col>&lt;int&gt;</th><th scope=col>&lt;dbl&gt;</th><th scope=col>&lt;dbl&gt;</th><th scope=col>&lt;dbl&gt;</th><th scope=col>&lt;dbl&gt;</th></tr>\n",
       "</thead>\n",
       "<tbody>\n",
       "\t<tr><th scope=row>1</th><td>22</td><td>37500643</td><td>0</td><td>-0.08509187</td><td>1</td><td>-0.002498497</td><td>-0.08509187</td><td>-0.07886577</td><td>-1.2399803</td></tr>\n",
       "\t<tr><th scope=row>2</th><td>22</td><td>37501070</td><td>0</td><td>-0.08509187</td><td>1</td><td>-0.812882892</td><td>-0.08509187</td><td>-0.62286526</td><td>-0.1122365</td></tr>\n",
       "\t<tr><th scope=row>3</th><td>22</td><td>37501901</td><td>0</td><td>-0.08509187</td><td>1</td><td>-0.754346166</td><td>-0.08509187</td><td> 0.47060322</td><td> 0.2334689</td></tr>\n",
       "\t<tr><th scope=row>4</th><td>22</td><td>37502423</td><td>0</td><td>-0.08509187</td><td>1</td><td>-0.096288767</td><td>-0.08509187</td><td> 0.69271051</td><td> 1.9356693</td></tr>\n",
       "\t<tr><th scope=row>5</th><td>22</td><td>37503165</td><td>1</td><td>-0.08509187</td><td>1</td><td> 0.803381028</td><td>-0.08509187</td><td> 1.63864336</td><td> 0.8028786</td></tr>\n",
       "\t<tr><th scope=row>6</th><td>22</td><td>37503668</td><td>0</td><td>-0.08509187</td><td>1</td><td> 0.605174630</td><td>-0.08509187</td><td>-0.68113185</td><td> 1.0973824</td></tr>\n",
       "</tbody>\n",
       "</table>\n"
      ],
      "text/latex": [
       "A data.frame: 6 × 9\n",
       "\\begin{tabular}{r|lllllllll}\n",
       "  & chromosome & position & genotype & phenotype & sample & protein\\_A & protein\\_B & protein\\_C & protein\\_D\\\\\n",
       "  & <int> & <int> & <int> & <dbl> & <int> & <dbl> & <dbl> & <dbl> & <dbl>\\\\\n",
       "\\hline\n",
       "\t1 & 22 & 37500643 & 0 & -0.08509187 & 1 & -0.002498497 & -0.08509187 & -0.07886577 & -1.2399803\\\\\n",
       "\t2 & 22 & 37501070 & 0 & -0.08509187 & 1 & -0.812882892 & -0.08509187 & -0.62286526 & -0.1122365\\\\\n",
       "\t3 & 22 & 37501901 & 0 & -0.08509187 & 1 & -0.754346166 & -0.08509187 &  0.47060322 &  0.2334689\\\\\n",
       "\t4 & 22 & 37502423 & 0 & -0.08509187 & 1 & -0.096288767 & -0.08509187 &  0.69271051 &  1.9356693\\\\\n",
       "\t5 & 22 & 37503165 & 1 & -0.08509187 & 1 &  0.803381028 & -0.08509187 &  1.63864336 &  0.8028786\\\\\n",
       "\t6 & 22 & 37503668 & 0 & -0.08509187 & 1 &  0.605174630 & -0.08509187 & -0.68113185 &  1.0973824\\\\\n",
       "\\end{tabular}\n"
      ],
      "text/markdown": [
       "\n",
       "A data.frame: 6 × 9\n",
       "\n",
       "| <!--/--> | chromosome &lt;int&gt; | position &lt;int&gt; | genotype &lt;int&gt; | phenotype &lt;dbl&gt; | sample &lt;int&gt; | protein_A &lt;dbl&gt; | protein_B &lt;dbl&gt; | protein_C &lt;dbl&gt; | protein_D &lt;dbl&gt; |\n",
       "|---|---|---|---|---|---|---|---|---|---|\n",
       "| 1 | 22 | 37500643 | 0 | -0.08509187 | 1 | -0.002498497 | -0.08509187 | -0.07886577 | -1.2399803 |\n",
       "| 2 | 22 | 37501070 | 0 | -0.08509187 | 1 | -0.812882892 | -0.08509187 | -0.62286526 | -0.1122365 |\n",
       "| 3 | 22 | 37501901 | 0 | -0.08509187 | 1 | -0.754346166 | -0.08509187 |  0.47060322 |  0.2334689 |\n",
       "| 4 | 22 | 37502423 | 0 | -0.08509187 | 1 | -0.096288767 | -0.08509187 |  0.69271051 |  1.9356693 |\n",
       "| 5 | 22 | 37503165 | 1 | -0.08509187 | 1 |  0.803381028 | -0.08509187 |  1.63864336 |  0.8028786 |\n",
       "| 6 | 22 | 37503668 | 0 | -0.08509187 | 1 |  0.605174630 | -0.08509187 | -0.68113185 |  1.0973824 |\n",
       "\n"
      ],
      "text/plain": [
       "  chromosome position genotype phenotype   sample protein_A    protein_B  \n",
       "1 22         37500643 0        -0.08509187 1      -0.002498497 -0.08509187\n",
       "2 22         37501070 0        -0.08509187 1      -0.812882892 -0.08509187\n",
       "3 22         37501901 0        -0.08509187 1      -0.754346166 -0.08509187\n",
       "4 22         37502423 0        -0.08509187 1      -0.096288767 -0.08509187\n",
       "5 22         37503165 1        -0.08509187 1       0.803381028 -0.08509187\n",
       "6 22         37503668 0        -0.08509187 1       0.605174630 -0.08509187\n",
       "  protein_C   protein_D \n",
       "1 -0.07886577 -1.2399803\n",
       "2 -0.62286526 -0.1122365\n",
       "3  0.47060322  0.2334689\n",
       "4  0.69271051  1.9356693\n",
       "5  1.63864336  0.8028786\n",
       "6 -0.68113185  1.0973824"
      ]
     },
     "metadata": {},
     "output_type": "display_data"
    }
   ],
   "source": [
    "head(qtlDF)"
   ]
  },
  {
   "cell_type": "markdown",
   "metadata": {},
   "source": [
    "##### ❔ _What do the columns represent?_"
   ]
  },
  {
   "cell_type": "markdown",
   "metadata": {},
   "source": [
    "We will now focus on the variant at position `37754982`.\n",
    "\n",
    "##### 👨‍💻 Create a data frame containing the values for the given variant."
   ]
  },
  {
   "cell_type": "code",
   "execution_count": 6,
   "metadata": {},
   "outputs": [
    {
     "data": {
      "text/plain": [
       "\n",
       "   0    1    2 \n",
       " 582 1890 1528 "
      ]
     },
     "metadata": {},
     "output_type": "display_data"
    }
   ],
   "source": [
    "snpDF <- qtlDF %>% \n",
    "    filter(\n",
    "        position == 37754982\n",
    "    )\n",
    "table(\n",
    "    snpDF$genotype\n",
    ")"
   ]
  },
  {
   "cell_type": "markdown",
   "metadata": {},
   "source": [
    "##### ❔ _What is the minor allele frequency for this variant in this population?_\n",
    "\n",
    "##### 👨‍💻 Compute the correlation between protein A and the number of alternative alleles."
   ]
  },
  {
   "cell_type": "code",
   "execution_count": 8,
   "metadata": {},
   "outputs": [
    {
     "data": {
      "text/plain": [
       "\n",
       "Call:\n",
       "lm(formula = protein_A ~ genotype, data = snpDF)\n",
       "\n",
       "Residuals:\n",
       "    Min      1Q  Median      3Q     Max \n",
       "-3.7269 -0.6891 -0.0092  0.6799  3.3158 \n",
       "\n",
       "Coefficients:\n",
       "            Estimate Std. Error t value Pr(>|t|)    \n",
       "(Intercept)  0.11061    0.03296   3.356 0.000797 ***\n",
       "genotype    -0.09040    0.02330  -3.880 0.000106 ***\n",
       "---\n",
       "Signif. codes:  0 '***' 0.001 '**' 0.01 '*' 0.05 '.' 0.1 ' ' 1\n",
       "\n",
       "Residual standard error: 1.012 on 3998 degrees of freedom\n",
       "Multiple R-squared:  0.003751,\tAdjusted R-squared:  0.003502 \n",
       "F-statistic: 15.05 on 1 and 3998 DF,  p-value: 0.0001062\n"
      ]
     },
     "metadata": {},
     "output_type": "display_data"
    }
   ],
   "source": [
    "snpLmResults <- lm(\n",
    "    formula = protein_A ~ genotype,\n",
    "    data = snpDF\n",
    ")\n",
    "\n",
    "summary(snpLmResults)"
   ]
  },
  {
   "cell_type": "markdown",
   "metadata": {},
   "source": [
    "##### ❔ _Is the association significant? What about the other proteins?_\n",
    "\n",
    "##### 👨‍💻 Plot the abundance of proteins relative to the genotype."
   ]
  },
  {
   "cell_type": "code",
   "execution_count": 12,
   "metadata": {},
   "outputs": [
    {
     "name": "stderr",
     "output_type": "stream",
     "text": [
      "`geom_smooth()` using formula 'y ~ x'\n",
      "\n"
     ]
    },
    {
     "data": {
      "image/png": "[encoded data removed]",
      "text/plain": [
       "plot without title"
      ]
     },
     "metadata": {
      "image/png": {
       "height": 420,
       "width": 420
      }
     },
     "output_type": "display_data"
    }
   ],
   "source": [
    "plotDF <- snpDF %>% \n",
    "    pivot_longer(\n",
    "        cols = c(\"protein_A\", \"protein_B\", \"protein_C\", \"protein_D\")\n",
    "    )\n",
    "\n",
    "ggplot(\n",
    "    data = plotDF\n",
    "    ) +\n",
    "    geom_hline(\n",
    "        yintercept = 0\n",
    "    ) +\n",
    "    geom_point(\n",
    "        mapping = aes(\n",
    "            x = genotype,\n",
    "            y = value,\n",
    "            col = name\n",
    "        ),\n",
    "        alpha = 0.05\n",
    "    ) + \n",
    "    geom_smooth(\n",
    "        mapping = aes(\n",
    "            x = genotype,\n",
    "            y = value,\n",
    "            col = name\n",
    "        ),\n",
    "        method = \"lm\"\n",
    "    ) +\n",
    "    facet_grid(\n",
    "        name ~ .\n",
    "    ) +\n",
    "    theme(\n",
    "        legend.position = \"none\"\n",
    "    )"
   ]
  },
  {
   "cell_type": "markdown",
   "metadata": {},
   "source": [
    "### Association across many variants\n",
    "\n",
    "##### 👨‍💻 Run the association for all variants."
   ]
  },
  {
   "cell_type": "code",
   "execution_count": 14,
   "metadata": {},
   "outputs": [
    {
     "name": "stdout",
     "output_type": "stream",
     "text": [
      "[1] \"Processing protein A\"\n",
      "[1] \"Processing protein B\"\n",
      "[1] \"Processing protein C\"\n",
      "[1] \"Processing protein D\"\n"
     ]
    }
   ],
   "source": [
    "lmResults <- data.frame(\n",
    "    position = unique(qtlDF$pos),\n",
    "    stringsAsFactors = F\n",
    ")\n",
    "\n",
    "print(\"Processing protein A\")\n",
    "\n",
    "lmResults$p_A <- sapply(\n",
    "    X = lmResults$position, \n",
    "    FUN = function (position) summary(\n",
    "        lm(\n",
    "            formula = protein_A ~ genotype,\n",
    "            data = qtlDF[qtlDF$position == position,]\n",
    "        )\n",
    "    )$coef[\"genotype\", \"Pr(>|t|)\"]\n",
    ")\n",
    "\n",
    "print(\"Processing protein B\")\n",
    "\n",
    "lmResults$p_B <- sapply(\n",
    "    X = lmResults$position, \n",
    "    FUN = function (position) summary(\n",
    "        lm(\n",
    "            formula = protein_B ~ genotype,\n",
    "            data = qtlDF[qtlDF$position == position,]\n",
    "        )\n",
    "    )$coef[\"genotype\", \"Pr(>|t|)\"]\n",
    ")\n",
    "\n",
    "print(\"Processing protein C\")\n",
    "\n",
    "lmResults$p_C <- sapply(\n",
    "    X = lmResults$position, \n",
    "    FUN = function (position) summary(\n",
    "        lm(\n",
    "            formula = protein_C ~ genotype,\n",
    "            data = qtlDF[qtlDF$position == position,]\n",
    "        )\n",
    "    )$coef[\"genotype\", \"Pr(>|t|)\"]\n",
    ")\n",
    "\n",
    "print(\"Processing protein D\")\n",
    "\n",
    "lmResults$p_D <- sapply(\n",
    "    X = lmResults$position, \n",
    "    FUN = function (position) summary(\n",
    "        lm(\n",
    "            formula = protein_D ~ genotype,\n",
    "            data = qtlDF[qtlDF$position == position,]\n",
    "        )\n",
    "    )$coef[\"genotype\", \"Pr(>|t|)\"]\n",
    ")"
   ]
  },
  {
   "cell_type": "markdown",
   "metadata": {},
   "source": [
    "##### 👨‍💻 Plot the p-value obtained for every variant and protein against the genomic position."
   ]
  },
  {
   "cell_type": "code",
   "execution_count": 17,
   "metadata": {},
   "outputs": [
    {
     "data": {
      "image/png": "[encoded data removed]",
      "text/plain": [
       "plot without title"
      ]
     },
     "metadata": {
      "image/png": {
       "height": 420,
       "width": 420
      }
     },
     "output_type": "display_data"
    }
   ],
   "source": [
    "plotDF <- lmResults %>% \n",
    "    pivot_longer(\n",
    "        cols = c(\"p_A\", \"p_B\", \"p_C\", \"p_D\"),\n",
    "        names_prefix = \"p_\"\n",
    "    )\n",
    "\n",
    "ggplot(\n",
    "    data = plotDF\n",
    ") +\n",
    "    geom_hline(\n",
    "        yintercept = 0\n",
    "    ) +\n",
    "    geom_point(\n",
    "        mapping = aes(\n",
    "            x = position,\n",
    "            y = -log10(value),\n",
    "            col = name\n",
    "        )\n",
    "    ) +\n",
    "    scale_y_continuous(\n",
    "        name = \"p-value [-log10]\"\n",
    "    ) +\n",
    "    facet_grid(\n",
    "        name ~ .\n",
    "    ) +\n",
    "    theme(\n",
    "        legend.position = \"none\"\n",
    "    )\n"
   ]
  },
  {
   "cell_type": "markdown",
   "metadata": {},
   "source": [
    "##### ❔ _What do you think about the association with protein A at position `37754982`?_"
   ]
  },
  {
   "cell_type": "markdown",
   "metadata": {},
   "source": [
    "##### 👨‍💻 Plot the obtained p-value against what one would expect by chance."
   ]
  },
  {
   "cell_type": "code",
   "execution_count": 21,
   "metadata": {},
   "outputs": [
    {
     "ename": "ERROR",
     "evalue": "Error in fortify(data): object 'test' not found\n",
     "output_type": "error",
     "traceback": [
      "Error in fortify(data): object 'test' not found\nTraceback:\n",
      "1. geom_point(data = test, mapping = aes(x = expectedLogP, y = logP, \n .     col = name))",
      "2. layer(data = data, mapping = mapping, stat = stat, geom = GeomPoint, \n .     position = position, show.legend = show.legend, inherit.aes = inherit.aes, \n .     params = list(na.rm = na.rm, ...))",
      "3. fortify(data)"
     ]
    }
   ],
   "source": [
    "getCiUp <- function(n, confidence) {\n",
    "    \n",
    "    return(\n",
    "        qbeta(p = (1-confidence)/2, shape1 = 1:n, shape2 = n - 1:n + 1)\n",
    "    )\n",
    "}\n",
    "\n",
    "getCiDown <- function(n, confidence) {\n",
    "    \n",
    "    return(\n",
    "        qbeta(p = 1-(1-confidence)/2, shape1 = 1:n, shape2 = n - 1:n + 1)\n",
    "    )\n",
    "}\n",
    "\n",
    "confidence <- 0.95\n",
    "\n",
    "qqPlotDF <- plotDF %>% \n",
    "    group_by(\n",
    "        name\n",
    "    ) %>% \n",
    "    arrange(\n",
    "        value\n",
    "    ) %>% \n",
    "    mutate(\n",
    "        logP = -log10(value),\n",
    "        expectedLogP = -log10(sort(ppoints(n = n()))),\n",
    "        ciUp = getCiUp(\n",
    "            n = n(), \n",
    "            confidence = confidence\n",
    "        ),\n",
    "        ciDown = getCiDown(\n",
    "            n = n(), \n",
    "            confidence = confidence\n",
    "        ),\n",
    "        ciUpLog = -log10(ciDown),\n",
    "        ciDownLog = -log10(ciUp)\n",
    "    )\n",
    "\n",
    "ggplot(\n",
    "    data = qqPlotDF\n",
    ") +\n",
    "    geom_ribbon(\n",
    "        data = qqPlotDF,\n",
    "        mapping = aes(\n",
    "            x = expectedLogP,\n",
    "            ymin = ciDownLog,\n",
    "            ymax = ciUpLog\n",
    "        ),\n",
    "        fill = \"black\",\n",
    "        alpha = 0.2\n",
    "    ) +\n",
    "    geom_abline(\n",
    "        linetype = \"dotted\"\n",
    "    ) +\n",
    "    geom_point(\n",
    "        data = qqPlotDF,\n",
    "        mapping = aes(\n",
    "            x = expectedLogP,\n",
    "            y = logP,\n",
    "            col = name\n",
    "        )\n",
    "    ) + \n",
    "    scale_x_continuous(\n",
    "        name = \"Expected p-value [-log10]\"\n",
    "    ) + \n",
    "    scale_y_continuous(\n",
    "        name = \"Observed p-value [-log10]\"\n",
    "    ) +\n",
    "    theme(\n",
    "        legend.position = \"top\"\n",
    "    )"
   ]
  },
  {
   "cell_type": "code",
   "execution_count": 19,
   "metadata": {},
   "outputs": [
    {
     "name": "stderr",
     "output_type": "stream",
     "text": [
      "Your code contains a unicode char which cannot be displayed in your\n",
      "current locale and R will silently convert it to an escaped form when the\n",
      "R kernel executes this code. This can lead to subtle errors if you use\n",
      "such chars to do comparisons. For more information, please see\n",
      "https://github.com/IRkernel/repr/wiki/Problems-with-unicode-on-windows"
     ]
    }
   ],
   "source": [
    "##### ❔ _Where would you set the significance threshold? Do we need to correct for the number of proteins tested?_"
   ]
  }
 ],
 "metadata": {
  "kernelspec": {
   "display_name": "R",
   "language": "R",
   "name": "ir"
  },
  "language_info": {
   "codemirror_mode": "r",
   "file_extension": ".r",
   "mimetype": "text/x-r-source",
   "name": "R",
   "pygments_lexer": "r",
   "version": "3.6.1"
  }
 },
 "nbformat": 4,
 "nbformat_minor": 2
}
